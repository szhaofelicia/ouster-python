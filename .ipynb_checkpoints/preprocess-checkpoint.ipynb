{
 "cells": [
  {
   "cell_type": "code",
   "execution_count": 86,
   "metadata": {},
   "outputs": [],
   "source": [
    "import os\n",
    "import pandas as pd\n",
    "import numpy as np\n",
    "import math\n",
    "\n",
    "from sklearn.neighbors import NearestNeighbors\n",
    "from sklearn.metrics import pairwise_distances\n",
    "\n",
    "import matplotlib.pyplot as plt\n",
    "from collections import defaultdict"
   ]
  },
  {
   "cell_type": "code",
   "execution_count": 2,
   "metadata": {},
   "outputs": [],
   "source": [
    "fps=20\n",
    "npoints=16384\n",
    "nchannel=16\n",
    "inputpath='/media/felicia/Data/ouster_data/-1024x10'\n",
    "framefile='-1024x10 (Frame %s).csv'\n",
    "\n",
    "frame=1"
   ]
  },
  {
   "cell_type": "code",
   "execution_count": 3,
   "metadata": {},
   "outputs": [],
   "source": [
    "dir_list=os.listdir(inputpath)\n",
    "lidar_df=pd.read_csv(os.path.join(inputpath,framefile%\"{:04d}\".format(frame)),header=0)"
   ]
  },
  {
   "cell_type": "code",
   "execution_count": 4,
   "metadata": {},
   "outputs": [],
   "source": [
    "xyz_df=lidar_df[[\"Point:0\",\"Point:1\",\"Point:2\",\"Channel\",\"Raw Timestamp\"]]\n",
    "xyz_values=xyz_df.values\n",
    "xyz_np=xyz_df.values.reshape((-1,16,5))"
   ]
  },
  {
   "cell_type": "code",
   "execution_count": 5,
   "metadata": {},
   "outputs": [],
   "source": [
    "xyz_base=np.ma.masked_equal(xyz_np, 0).mean(axis=1)\n",
    "timestamp=np.ma.masked_equal(xyz_base[:,-1], 0).mean(axis=0)"
   ]
  },
  {
   "cell_type": "code",
   "execution_count": 7,
   "metadata": {},
   "outputs": [],
   "source": [
    "xy_sigma=[]\n",
    "xy_nn=[]\n",
    "for i in range(1024):\n",
    "    positions=xyz_np[i,:,:2] # x,y\n",
    "    nbrs = NearestNeighbors(n_neighbors=2, algorithm='ball_tree').fit(positions)\n",
    "    dists, idxs = nbrs.kneighbors(positions)\n",
    "    xy_sigma.append(dists[:,1])\n",
    "    xy_nn.append(positions[idxs[:,1]])\n",
    "xy_sigma=np.array(xy_sigma)\n",
    "xy_nn=np.array(xy_nn)"
   ]
  },
  {
   "cell_type": "code",
   "execution_count": 8,
   "metadata": {},
   "outputs": [],
   "source": [
    "sigmas=[]\n",
    "for i in np.arange(0,1,0.1):\n",
    "    sigmas.append(np.quantile(xy_sigma,i))"
   ]
  },
  {
   "cell_type": "code",
   "execution_count": 9,
   "metadata": {},
   "outputs": [
    {
     "data": {
      "text/plain": [
       "[0.0,\n",
       " 0.0004950433061395186,\n",
       " 0.001160586778871903,\n",
       " 0.0017514231818875972,\n",
       " 0.0025548595528198824,\n",
       " 0.003843781104707735,\n",
       " 0.005873371097075409,\n",
       " 0.009238961404635572,\n",
       " 0.016681504124702293,\n",
       " 0.05184437981674968]"
      ]
     },
     "execution_count": 9,
     "metadata": {},
     "output_type": "execute_result"
    }
   ],
   "source": [
    "sigmas"
   ]
  },
  {
   "cell_type": "code",
   "execution_count": 46,
   "metadata": {},
   "outputs": [],
   "source": [
    "sigma=np.mean(xy_sigma)\n",
    "\n",
    "# sigma=sigmas[6]\n",
    "\n",
    "xy_positions=xyz_np[:,:,:2]\n",
    "xy_proj=[]\n",
    "proj_dict=defaultdict(list)\n",
    "for i in range(1024):\n",
    "    ox,oy=xy_positions[i,0]\n",
    "    temp=[[ox,oy,i,0]]\n",
    "    for j in range(1,16):\n",
    "        x,y=xy_positions[i,j]\n",
    "        dist=np.linalg.norm([ox-x,oy-y])\n",
    "        if dist < sigma:\n",
    "            temp.append([ox,oy,i,j])\n",
    "            ox,oy,_,_=np.mean(temp,axis=0)\n",
    "        else:\n",
    "            xy_proj.append([ox,oy])\n",
    "            \n",
    "            for ele in temp:\n",
    "                _,_,idxi,idxj=ele\n",
    "                proj_dict[(ox,oy)].append([idxi,idxj])\n",
    "            ox,oy=x,y\n",
    "            temp=[[ox,oy,i,j]]      \n",
    "xy_proj=np.array(xy_proj)\n",
    "xy_radius=np.linalg.norm(xy_proj,axis=1)"
   ]
  },
  {
   "cell_type": "code",
   "execution_count": 48,
   "metadata": {},
   "outputs": [],
   "source": [
    "xy_nbrs = NearestNeighbors(n_neighbors=2, algorithm='ball_tree').fit(xy_proj)\n",
    "dists, idxs = xy_nbrs.kneighbors(xy_proj)\n",
    "xy_delta=dists[:,1]"
   ]
  },
  {
   "cell_type": "code",
   "execution_count": 50,
   "metadata": {},
   "outputs": [
    {
     "data": {
      "text/plain": [
       "array([0.01458813, 0.00752096, 0.00752096, ..., 0.02432747, 0.02060643,\n",
       "       0.02060643])"
      ]
     },
     "execution_count": 50,
     "metadata": {},
     "output_type": "execute_result"
    }
   ],
   "source": [
    "xy_delta"
   ]
  },
  {
   "cell_type": "code",
   "execution_count": 106,
   "metadata": {},
   "outputs": [],
   "source": [
    "z_delta=[]\n",
    "for x,y in xy_proj:\n",
    "    idxs=np.array(proj_dict[(x,y)])\n",
    "    z_positions=np.array([xyz_np[idxi,idxj,2] for idxi,idxj in idxs]).reshape(-1,1)\n",
    "    if len(z_positions)>1:\n",
    "        z_delta.append(sorted(pairwise_distances(z_positions)[0])[1])\n",
    "    else:\n",
    "        z_delta.append(0)\n",
    "z_delta=np.array(z_delta)"
   ]
  },
  {
   "cell_type": "code",
   "execution_count": 104,
   "metadata": {},
   "outputs": [
    {
     "data": {
      "text/plain": [
       "3709"
      ]
     },
     "execution_count": 104,
     "metadata": {},
     "output_type": "execute_result"
    }
   ],
   "source": [
    "np.count_nonzero(xy_proj[:,0])"
   ]
  },
  {
   "cell_type": "code",
   "execution_count": 127,
   "metadata": {},
   "outputs": [],
   "source": [
    "%matplotlib qt\n",
    "\n",
    "fig=plt.figure(figsize=(12,6), dpi= 100, facecolor='w', edgecolor='k')\n",
    "plt.scatter(xy_proj[:,0], xy_proj[:,1],s=1,c=xy_radius, alpha=1,cmap='viridis')\n",
    "plt.grid()\n",
    "cbar=plt.colorbar()\n",
    "cbar.ax.get_yaxis().labelpad = 15\n",
    "cbar.ax.set_ylabel('Distance', rotation=270)\n",
    "plt.xlim(-45,  5)\n",
    "plt.ylim(-15, 20)\n",
    "plt.xlabel(\"$x$\")\n",
    "plt.ylabel(\"$y$\")\n",
    "plt.title(\"2D Projection, sigma=\"+str(sigma))\n",
    "plt.show((24,10))"
   ]
  },
  {
   "cell_type": "code",
   "execution_count": 126,
   "metadata": {},
   "outputs": [],
   "source": [
    "%matplotlib qt\n",
    "\n",
    "max_delta=20*2*math.pi/1024\n",
    "# xy_delta=np.where(xy_delta<=max_delta,xy_delta,max_delta)\n",
    "\n",
    "fig=plt.figure(figsize=(12,6), dpi= 100, facecolor='w', edgecolor='k')\n",
    "plt.scatter(xy_proj[:,0], xy_proj[:,1],s=1,c=xy_delta, alpha=1,cmap='viridis')\n",
    "plt.grid()\n",
    "cbar=plt.colorbar()\n",
    "cbar.ax.get_yaxis().labelpad = 15\n",
    "cbar.ax.set_ylabel('Delta', rotation=270)\n",
    "# cbar.set_clim(0, max_delta)\n",
    "\n",
    "plt.xlim(-45,  5)\n",
    "plt.ylim(-15, 20)\n",
    "plt.xlabel(\"$x$\")\n",
    "plt.ylabel(\"$y$\")\n",
    "plt.title(\"2D Projection, sigma=\"+str(sigma))\n",
    "plt.show((24,10))"
   ]
  },
  {
   "cell_type": "code",
   "execution_count": 117,
   "metadata": {},
   "outputs": [],
   "source": [
    "%matplotlib qt\n",
    "\n",
    "max_zdelta=20*2*math.pi*33.2/360/16\n",
    "z_delta=np.where(z_delta<=max_zdelta,z_delta,max_zdelta)\n",
    "\n",
    "fig=plt.figure(figsize=(12,6), dpi= 100, facecolor='w', edgecolor='k')\n",
    "plt.scatter(xy_proj[:,0], xy_proj[:,1],s=1,c=z_delta, alpha=1,cmap='viridis')\n",
    "plt.grid()\n",
    "cbar=plt.colorbar()\n",
    "cbar.ax.get_yaxis().labelpad = 15\n",
    "cbar.ax.set_ylabel('Z Delta', rotation=270)\n",
    "cbar.set_clim(0, min(max_zdelta,max(z_delta)))\n",
    "\n",
    "plt.xlim(-45,  5)\n",
    "plt.ylim(-15, 20)\n",
    "plt.xlabel(\"$x$\")\n",
    "plt.ylabel(\"$y$\")\n",
    "plt.title(\"2D Projection, sigma=\"+str(sigma))\n",
    "plt.show((24,10))"
   ]
  },
  {
   "cell_type": "code",
   "execution_count": 116,
   "metadata": {},
   "outputs": [
    {
     "data": {
      "text/plain": [
       "0.7243116395776468"
      ]
     },
     "execution_count": 116,
     "metadata": {},
     "output_type": "execute_result"
    }
   ],
   "source": [
    "max_zdelta"
   ]
  }
 ],
 "metadata": {
  "kernelspec": {
   "display_name": "Python 3",
   "language": "python",
   "name": "python3"
  },
  "language_info": {
   "codemirror_mode": {
    "name": "ipython",
    "version": 3
   },
   "file_extension": ".py",
   "mimetype": "text/x-python",
   "name": "python",
   "nbconvert_exporter": "python",
   "pygments_lexer": "ipython3",
   "version": "3.6.1"
  }
 },
 "nbformat": 4,
 "nbformat_minor": 2
}
